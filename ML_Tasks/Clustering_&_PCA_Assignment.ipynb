{
  "cells": [
    {
      "cell_type": "markdown",
      "id": "d17bf26b-9735-4367-b6be-48e0a655faa7",
      "metadata": {
        "id": "d17bf26b-9735-4367-b6be-48e0a655faa7"
      },
      "source": [
        "# Clustering and PCA\n",
        "\n",
        "In this assignment, you will be exploring difference between clique and kmeans algorithms for clustering and will get better understanding of PCA & Kmeans algorithms by manually implementing both of them.\n",
        "\n",
        "--------------------"
      ]
    },
    {
      "cell_type": "code",
      "execution_count": null,
      "id": "7bb62775-7921-49d2-954e-e569fb534498",
      "metadata": {
        "colab": {
          "base_uri": "https://localhost:8080/"
        },
        "id": "7bb62775-7921-49d2-954e-e569fb534498",
        "outputId": "1abe74c7-dd17-495f-af0f-b2c68055586a"
      },
      "outputs": [
        {
          "output_type": "stream",
          "name": "stdout",
          "text": [
            "Collecting pyclustering\n",
            "  Downloading pyclustering-0.10.1.2.tar.gz (2.6 MB)\n",
            "\u001b[K     |████████████████████████████████| 2.6 MB 5.5 MB/s \n",
            "\u001b[?25hRequirement already satisfied: scipy>=1.1.0 in /usr/local/lib/python3.7/dist-packages (from pyclustering) (1.4.1)\n",
            "Requirement already satisfied: matplotlib>=3.0.0 in /usr/local/lib/python3.7/dist-packages (from pyclustering) (3.2.2)\n",
            "Requirement already satisfied: numpy>=1.15.2 in /usr/local/lib/python3.7/dist-packages (from pyclustering) (1.21.6)\n",
            "Requirement already satisfied: Pillow>=5.2.0 in /usr/local/lib/python3.7/dist-packages (from pyclustering) (7.1.2)\n",
            "Requirement already satisfied: pyparsing!=2.0.4,!=2.1.2,!=2.1.6,>=2.0.1 in /usr/local/lib/python3.7/dist-packages (from matplotlib>=3.0.0->pyclustering) (3.0.9)\n",
            "Requirement already satisfied: kiwisolver>=1.0.1 in /usr/local/lib/python3.7/dist-packages (from matplotlib>=3.0.0->pyclustering) (1.4.2)\n",
            "Requirement already satisfied: python-dateutil>=2.1 in /usr/local/lib/python3.7/dist-packages (from matplotlib>=3.0.0->pyclustering) (2.8.2)\n",
            "Requirement already satisfied: cycler>=0.10 in /usr/local/lib/python3.7/dist-packages (from matplotlib>=3.0.0->pyclustering) (0.11.0)\n",
            "Requirement already satisfied: typing-extensions in /usr/local/lib/python3.7/dist-packages (from kiwisolver>=1.0.1->matplotlib>=3.0.0->pyclustering) (4.2.0)\n",
            "Requirement already satisfied: six>=1.5 in /usr/local/lib/python3.7/dist-packages (from python-dateutil>=2.1->matplotlib>=3.0.0->pyclustering) (1.15.0)\n",
            "Building wheels for collected packages: pyclustering\n",
            "  Building wheel for pyclustering (setup.py) ... \u001b[?25l\u001b[?25hdone\n",
            "  Created wheel for pyclustering: filename=pyclustering-0.10.1.2-py3-none-any.whl size=2395122 sha256=b849272a96ac14bdf4890324af6a5b99e4da988951098c2e7850352cc6d5180d\n",
            "  Stored in directory: /root/.cache/pip/wheels/ea/87/6b/1e0568b5ba9dc6518a25338bae90bd8392f35206bb90bb10f1\n",
            "Successfully built pyclustering\n",
            "Installing collected packages: pyclustering\n",
            "Successfully installed pyclustering-0.10.1.2\n"
          ]
        }
      ],
      "source": [
        "!pip install pyclustering\n",
        "import pyclustering\n",
        "import matplotlib.pyplot as plt\n",
        "import seaborn as sn\n",
        "from sklearn.datasets import make_moons, make_blobs\n",
        "import numpy as np\n",
        "from pyclustering.cluster.clique import clique, clique_visualizer\n",
        "from sklearn.cluster import KMeans"
      ]
    },
    {
      "cell_type": "code",
      "execution_count": null,
      "id": "ca5685a4-811f-4314-ac1d-8453aa091d55",
      "metadata": {
        "id": "ca5685a4-811f-4314-ac1d-8453aa091d55"
      },
      "outputs": [],
      "source": [
        "X, y = make_moons(n_samples=250, noise=0.05, random_state=42)"
      ]
    },
    {
      "cell_type": "markdown",
      "id": "76bbc5b5-8cb1-4376-890d-ed12ba2d77a7",
      "metadata": {
        "id": "76bbc5b5-8cb1-4376-890d-ed12ba2d77a7"
      },
      "source": [
        "# Questoin 1\n",
        "Scatter plot the dataset"
      ]
    },
    {
      "cell_type": "code",
      "execution_count": null,
      "id": "d99a23d5-8a35-4769-af10-836d3185d940",
      "metadata": {
        "colab": {
          "base_uri": "https://localhost:8080/",
          "height": 282
        },
        "id": "d99a23d5-8a35-4769-af10-836d3185d940",
        "outputId": "62b08549-5244-46af-d0ac-1bff9e8eb8c1"
      },
      "outputs": [
        {
          "output_type": "execute_result",
          "data": {
            "text/plain": [
              "<matplotlib.collections.PathCollection at 0x7fc8802c1fd0>"
            ]
          },
          "metadata": {},
          "execution_count": 8
        },
        {
          "output_type": "display_data",
          "data": {
            "text/plain": [
              "<Figure size 432x288 with 1 Axes>"
            ],
            "image/png": "[encoded data removed]"
          },
          "metadata": {
            "needs_background": "light"
          }
        }
      ],
      "source": [
        "plt.scatter(x=X[:,0],y=X[:,1])\n",
        "# sn.scatterplot(x=X[:,0],y=X[:,1])"
      ]
    },
    {
      "cell_type": "markdown",
      "id": "967897ec-a5ac-4516-bacf-f039d2b20025",
      "metadata": {
        "id": "967897ec-a5ac-4516-bacf-f039d2b20025"
      },
      "source": [
        "# Question 2\n",
        "In your opinon, how well will K-Means perform on the above dataset? Explain.\n",
        "\n",
        "kmeans couldn’t figure out the correct clusters for this datasets,as The goal of kmeans is to group data points into distinct non-overlapping subgroups. It does a very good job when the clusters have a kind of spherical shapes. However, it suffers as the geometric shapes of clusters deviates from spherical shapes.Moreover, it also doesn’t learn the number of clusters from the data and requires it to be pre-defined.and also Applicable only when mean is defined\n"
      ]
    },
    {
      "cell_type": "markdown",
      "source": [
        ""
      ],
      "metadata": {
        "id": "kfj68T46t-mx"
      },
      "id": "kfj68T46t-mx"
    },
    {
      "cell_type": "markdown",
      "id": "486b938f-85c8-4b69-b8f6-05ab49c2a560",
      "metadata": {
        "id": "486b938f-85c8-4b69-b8f6-05ab49c2a560"
      },
      "source": [
        "# Question 3\n",
        "1. Use Elbow method to find best \"k\". (Use inertia as metric).\n",
        "2. Plot the elbow graph.\n",
        "3. Train KMeans model using \"k = 2\".\n",
        "4. Comment on the results.\n",
        "\n",
        "\n",
        "4.kmeans couldn’t figure out the correct clusters for this datasets,as The goal of kmeans is to group data points into distinct non-overlapping subgroups. It does a very good job when the clusters have a kind of spherical shapes. However, it suffers as the geometric shapes of clusters deviates from spherical shapes.Moreover, it also doesn’t learn the number of clusters from the data and requires it to be pre-defined.and also Applicable only when mean is defined,as showing figure \n",
        "\n",
        "\n",
        "#1.the best k is \"2\""
      ]
    },
    {
      "cell_type": "code",
      "execution_count": null,
      "id": "4f3fbc8f-61f9-4511-8082-d63f1a54e821",
      "metadata": {
        "id": "4f3fbc8f-61f9-4511-8082-d63f1a54e821"
      },
      "outputs": [],
      "source": [
        "inertias= []\n",
        "map1 = {}\n",
        "K = range(1, 10)\n",
        "  \n",
        "for k in K:\n",
        "    # Building and fitting the model\n",
        "    kmeanModel = KMeans(n_clusters=k).fit(X)  \n",
        "    inertias.append(kmeanModel.inertia_)\n",
        "  \n",
        "    map1[k] = kmeanModel.inertia_"
      ]
    },
    {
      "cell_type": "code",
      "source": [
        "plt.plot(K, inertias, 'bx-')\n",
        "plt.xlabel('Values of K')\n",
        "plt.ylabel('Inertia')"
      ],
      "metadata": {
        "colab": {
          "base_uri": "https://localhost:8080/",
          "height": 296
        },
        "id": "XTJ4XqYccPm1",
        "outputId": "68957615-544e-4df4-a95a-1edbb47684bd"
      },
      "id": "XTJ4XqYccPm1",
      "execution_count": null,
      "outputs": [
        {
          "output_type": "execute_result",
          "data": {
            "text/plain": [
              "Text(0, 0.5, 'Inertia')"
            ]
          },
          "metadata": {},
          "execution_count": 10
        },
        {
          "output_type": "display_data",
          "data": {
            "text/plain": [
              "<Figure size 432x288 with 1 Axes>"
            ],
            "image/png": "[encoded data removed]"
          },
          "metadata": {
            "needs_background": "light"
          }
        }
      ]
    },
    {
      "cell_type": "code",
      "source": [
        "#with k=2\n",
        "\n",
        "kmeanModel = KMeans(2,random_state=0).fit_predict(X)\n",
        "plt.scatter(x=X[:,0],y=X[:,1],c=kmeanModel,s=50,cmap='cividis')"
      ],
      "metadata": {
        "colab": {
          "base_uri": "https://localhost:8080/",
          "height": 282
        },
        "id": "D1nJImB5cz1K",
        "outputId": "2c820d2a-df7a-4117-fdb5-05e419852db4"
      },
      "id": "D1nJImB5cz1K",
      "execution_count": null,
      "outputs": [
        {
          "output_type": "execute_result",
          "data": {
            "text/plain": [
              "<matplotlib.collections.PathCollection at 0x7fc87ac9dd50>"
            ]
          },
          "metadata": {},
          "execution_count": 12
        },
        {
          "output_type": "display_data",
          "data": {
            "text/plain": [
              "<Figure size 432x288 with 1 Axes>"
            ],
            "image/png": "[encoded data removed]"
          },
          "metadata": {
            "needs_background": "light"
          }
        }
      ]
    },
    {
      "cell_type": "markdown",
      "id": "a419ed96-c98f-40ec-958e-bb72e2b1cd0b",
      "metadata": {
        "id": "a419ed96-c98f-40ec-958e-bb72e2b1cd0b"
      },
      "source": [
        "# Question 4\n",
        "1. If you are going to use clique, what is a proper threshold value for the above dataset.\n",
        "2. Find the best interval value that cluster the data into two clusters, plot the results.\n",
        "3. Why do you think clique performed better on this dataset in comparison with KMeans?\n",
        "\n",
        "\n",
        "##3.beacuse clique handle noisy data ,outliers ,Identify the subspaces that contain clusters and detect number of clusters but k-means don't"
      ]
    },
    {
      "cell_type": "code",
      "execution_count": null,
      "id": "7357f37d-0334-44be-bf56-269bc09066f0",
      "metadata": {
        "colab": {
          "base_uri": "https://localhost:8080/",
          "height": 531
        },
        "id": "7357f37d-0334-44be-bf56-269bc09066f0",
        "outputId": "a4947500-4cd7-4ab3-9319-ba456c0fdbb0"
      },
      "outputs": [
        {
          "output_type": "stream",
          "name": "stdout",
          "text": [
            "Amount of clusters: 2\n"
          ]
        },
        {
          "output_type": "display_data",
          "data": {
            "text/plain": [
              "<Figure size 432x288 with 1 Axes>"
            ],
            "image/png": "[encoded data removed]"
          },
          "metadata": {
            "needs_background": "light"
          }
        },
        {
          "output_type": "display_data",
          "data": {
            "text/plain": [
              "<Figure size 432x288 with 1 Axes>"
            ],
            "image/png": "[encoded data removed]"
          },
          "metadata": {
            "needs_background": "light"
          }
        }
      ],
      "source": [
        "# read two-dimensional input data 'Target'\n",
        "\n",
        "# create CLIQUE algorithm for processing\n",
        "intervals = 8  # defines amount of cells in grid in each dimension\n",
        "threshold = 0  # lets consider each point as non-outlier\n",
        "clique_instance = clique(X, intervals, threshold)\n",
        "\n",
        "# start clustering process and obtain results\n",
        "clique_instance.process()\n",
        "clusters = clique_instance.get_clusters()  # allocated clusters\n",
        "noise = clique_instance.get_noise()     # points that are considered as outliers (in this example should be empty)\n",
        "cells = clique_instance.get_cells()     # CLIQUE blocks that forms grid\n",
        "print(\"Amount of clusters:\", len(clusters))\n",
        "\n",
        "# visualize clustering results\n",
        "clique_visualizer.show_grid(cells, X)    # show grid that has been formed by the algorithm\n",
        "clique_visualizer.show_clusters(X, clusters, noise)  # show clustering results"
      ]
    },
    {
      "cell_type": "markdown",
      "id": "683597b6-e965-46f7-b88e-6176aa44a63e",
      "metadata": {
        "id": "683597b6-e965-46f7-b88e-6176aa44a63e"
      },
      "source": [
        "# Question 5\n",
        "For the following dataset\n",
        "1. Run kmeans algorithm clustering using k=2.\n",
        "2. Run clique algorithm using interval = 15 and threshold = 6.\n",
        "3. Plot results of both algorithms.\n",
        "4. Comment on the following\n",
        "    * What is the number of clusters in case of clique? and why?\n",
        "    * Why do kmeans fail to cluster such data?\n",
        "\n",
        "\n",
        "#4: 1.number of cluster in case of clique is \"4\" beacase all block in each neighbouring cluster have a dense with data (points more 6)\n",
        "\n",
        "#2.beacuse it Unable to handle noisy data and outliers & Not suitable to discover clusters with non-convex shapes\n"
      ]
    },
    {
      "cell_type": "markdown",
      "source": [
        ""
      ],
      "metadata": {
        "id": "v3d-G6JY0fKq"
      },
      "id": "v3d-G6JY0fKq"
    },
    {
      "cell_type": "code",
      "execution_count": null,
      "id": "9c1ee137-beee-4fda-b4bf-912ece5fcf35",
      "metadata": {
        "id": "9c1ee137-beee-4fda-b4bf-912ece5fcf35"
      },
      "outputs": [],
      "source": [
        "n_samples = 1500\n",
        "random_state = 170\n",
        "X, y = make_blobs(n_samples=n_samples, random_state=random_state, centers=2)\n",
        "transformation = [[0.60834549, -0.63667341], [-0.40887718, 0.85253229]]\n",
        "X_aniso = np.dot(X, transformation)"
      ]
    },
    {
      "cell_type": "code",
      "source": [
        "#1,3\n",
        "X=X_aniso\n",
        "kmeanModel = KMeans(2,random_state=0).fit_predict(X)\n",
        "plt.scatter(x=X[:,0],y=X[:,1],c=kmeanModel,s=50,cmap='cividis')"
      ],
      "metadata": {
        "colab": {
          "base_uri": "https://localhost:8080/",
          "height": 282
        },
        "id": "2Dt2iNo2sZq1",
        "outputId": "646dea2a-0a2a-4d78-9b3c-45c4fe979d47"
      },
      "id": "2Dt2iNo2sZq1",
      "execution_count": null,
      "outputs": [
        {
          "output_type": "execute_result",
          "data": {
            "text/plain": [
              "<matplotlib.collections.PathCollection at 0x7fda11e3ead0>"
            ]
          },
          "metadata": {},
          "execution_count": 21
        },
        {
          "output_type": "display_data",
          "data": {
            "text/plain": [
              "<Figure size 432x288 with 1 Axes>"
            ],
            "image/png": "[encoded data removed]"
          },
          "metadata": {
            "needs_background": "light"
          }
        }
      ]
    },
    {
      "cell_type": "code",
      "source": [
        "#2,3\n",
        "\n",
        "# create CLIQUE algorithm for processing\n",
        "intervals = 15  # defines amount of cells in grid in each dimension\n",
        "threshold = 6  #  block that contains 6 or less points is considered as a outlier as well as its points\n",
        "clique_instance = clique(X, intervals, threshold)\n",
        "\n",
        "# start clustering process and obtain results\n",
        "clique_instance.process()\n",
        "clusters = clique_instance.get_clusters()  # allocated clusters\n",
        "noise = clique_instance.get_noise()     # points that are considered as outliers (in this example should be empty)\n",
        "cells = clique_instance.get_cells()     # CLIQUE blocks that forms grid\n",
        "print(\"Amount of clusters:\", len(clusters))\n",
        "\n",
        "# visualize clustering results\n",
        "clique_visualizer.show_grid(cells, X)    # show grid that has been formed by the algorithm\n",
        "clique_visualizer.show_clusters(X, clusters, noise)  # show clustering results"
      ],
      "metadata": {
        "colab": {
          "base_uri": "https://localhost:8080/",
          "height": 531
        },
        "id": "roqz0q8Psril",
        "outputId": "c06c2723-afc0-481d-cad6-b8a9653377d5"
      },
      "id": "roqz0q8Psril",
      "execution_count": null,
      "outputs": [
        {
          "output_type": "stream",
          "name": "stdout",
          "text": [
            "Amount of clusters: 4\n"
          ]
        },
        {
          "output_type": "display_data",
          "data": {
            "text/plain": [
              "<Figure size 432x288 with 1 Axes>"
            ],
            "image/png": "[encoded data removed]"
          },
          "metadata": {
            "needs_background": "light"
          }
        },
        {
          "output_type": "display_data",
          "data": {
            "text/plain": [
              "<Figure size 432x288 with 1 Axes>"
            ],
            "image/png": "[encoded data removed]"
          },
          "metadata": {
            "needs_background": "light"
          }
        }
      ]
    },
    {
      "cell_type": "markdown",
      "id": "4d9ac326-52d3-498e-8e9a-772c088338f4",
      "metadata": {
        "id": "4d9ac326-52d3-498e-8e9a-772c088338f4"
      },
      "source": [
        "# Question 6\n",
        "\n",
        "Write your own PCA function that will return:\n",
        "* The sorted eigenvectors of principal components\n",
        "* The corresponding eigenvalues\n",
        "* The transformed data\n",
        "\n",
        "Note, please make sure that the data is centered before transformation (i.e., the sample\n",
        "mean subtracted out) but not normalized."
      ]
    },
    {
      "cell_type": "code",
      "execution_count": null,
      "id": "7d7fb0d2-3ec8-449c-9e4f-bba8533ea088",
      "metadata": {
        "id": "7d7fb0d2-3ec8-449c-9e4f-bba8533ea088",
        "colab": {
          "base_uri": "https://localhost:8080/"
        },
        "outputId": "5de7f048-86ef-4f44-a025-a74e8ac0008d"
      },
      "outputs": [
        {
          "output_type": "stream",
          "name": "stdout",
          "text": [
            "cov \n",
            " [[ 0.76138567 -0.1911642 ]\n",
            " [-0.1911642   0.24447784]]\n",
            "\n",
            "eigen_vectors\n",
            " [[-0.31306686 -0.94973109]\n",
            " [-0.94973109  0.31306686]]\n",
            "\n",
            "eigenvalues\n",
            " [0.18146297 0.82440053]\n",
            "\n",
            "transformed_data\n",
            " [[ 0.35457927  0.26282587]\n",
            " [-0.55063268 -0.07912451]\n",
            " [ 1.29106492 -0.02050071]\n",
            " [ 0.63122066 -0.50222636]\n",
            " [ 1.45932139  0.39209846]\n",
            " [-0.47672944  0.61619472]\n",
            " [-0.98042708  0.42692603]\n",
            " [-0.61891903  0.62926093]\n",
            " [-0.48673305 -0.15800825]\n",
            " [ 1.41157808  0.16351977]\n",
            " [-1.01015237  0.30800563]\n",
            " [-1.29265801  0.10265884]\n",
            " [-1.4176105  -0.28607287]\n",
            " [-1.39749481 -0.4830077 ]\n",
            " [ 0.89233047 -0.48373232]\n",
            " [-1.42026574 -0.06747767]\n",
            " [-0.80700784  0.4510427 ]\n",
            " [-0.34902044 -0.40150631]\n",
            " [-0.38530754  0.59319824]\n",
            " [-0.21571237 -0.41044944]\n",
            " [-1.40224907 -0.66851998]\n",
            " [-0.21914725 -0.24984802]\n",
            " [ 1.35045753  0.3848222 ]\n",
            " [ 0.87789313 -0.51263022]\n",
            " [-0.56658619  0.56599683]\n",
            " [ 0.29050729 -0.6057572 ]\n",
            " [ 0.50534009 -0.58618346]\n",
            " [-0.50113896 -0.06147317]\n",
            " [-0.08882776 -0.49209652]\n",
            " [ 1.37843735  0.63816557]\n",
            " [-1.00140099  0.43893561]\n",
            " [ 0.10051589 -0.46876048]\n",
            " [ 0.29781383  0.26987652]\n",
            " [-1.34529701  0.07766106]\n",
            " [-0.1309422  -0.36155976]\n",
            " [ 1.42913875  0.45810658]\n",
            " [-0.30929251 -0.39402894]\n",
            " [-0.90863813  0.55404172]\n",
            " [-0.58844877  0.65685365]\n",
            " [ 0.05084622  0.52843872]\n",
            " [ 1.38229917  0.59767563]\n",
            " [ 1.3139046   0.03410021]\n",
            " [ 1.2949355   0.31249251]\n",
            " [-0.62248793  0.60915759]\n",
            " [-1.29915012 -0.05539771]\n",
            " [-0.24904339 -0.25446814]\n",
            " [ 0.30331982  0.3320541 ]\n",
            " [ 0.88510915 -0.50667324]\n",
            " [-0.33246768  0.59355166]\n",
            " [ 0.0228441  -0.55247408]\n",
            " [ 0.48290477  0.10935747]\n",
            " [-1.43496555 -0.10984877]\n",
            " [-1.36764777 -0.39190795]\n",
            " [ 1.37471689  0.62719126]\n",
            " [ 0.45274304  0.16944053]\n",
            " [ 0.82506544 -0.55405792]\n",
            " [-1.26345776  0.09626402]\n",
            " [ 0.12292703  0.36702702]\n",
            " [-0.16443399  0.51661787]\n",
            " [-1.31671616 -0.19628575]\n",
            " [-1.38704598 -0.26025331]\n",
            " [ 0.0322045   0.46238582]\n",
            " [ 1.37916336  0.64438068]\n",
            " [ 1.18920124 -0.24360252]\n",
            " [ 0.56729989 -0.11397531]\n",
            " [-0.29233934  0.54128921]\n",
            " [-1.39535059 -0.62241905]\n",
            " [ 1.34976556  0.29165661]\n",
            " [-0.33986233  0.5093585 ]\n",
            " [-1.40730081 -0.32023113]\n",
            " [ 0.95786796 -0.49109064]\n",
            " [ 0.00299898  0.46525655]\n",
            " [ 1.4131151   0.53878802]\n",
            " [ 1.00848128 -0.33189406]\n",
            " [-1.40604346 -0.38681807]\n",
            " [ 1.0550245  -0.23958793]\n",
            " [-0.18501541 -0.44991572]\n",
            " [ 0.59320823  0.00445094]\n",
            " [ 0.98672924 -0.36411173]\n",
            " [ 1.17050509 -0.20339907]\n",
            " [-0.50719016 -0.00829809]\n",
            " [ 0.56999316 -0.61365188]\n",
            " [-0.79212377  0.62898108]\n",
            " [-1.45295165 -0.3042196 ]\n",
            " [-0.27324198  0.63435223]\n",
            " [ 0.73732243 -0.55361202]\n",
            " [ 0.45019132  0.25868815]\n",
            " [ 1.30783694  0.65123198]\n",
            " [-1.21431933  0.2418169 ]\n",
            " [ 0.29295737  0.24349711]\n",
            " [ 0.00900513 -0.43191462]\n",
            " [-0.43400133 -0.18643195]\n",
            " [ 0.08267708 -0.63009433]\n",
            " [-0.07737854 -0.44532083]\n",
            " [ 0.18965755 -0.55045709]\n",
            " [-1.21448363  0.06883463]\n",
            " [-0.32115477 -0.41884277]\n",
            " [ 1.28897043 -0.05871272]\n",
            " [-1.17784594  0.13694159]\n",
            " [ 1.36706025  0.20792823]\n",
            " [ 0.5150841  -0.58138914]\n",
            " [ 1.26695712 -0.03545081]\n",
            " [ 0.34286896  0.29140993]\n",
            " [-0.97311178  0.37919023]\n",
            " [ 0.94451488 -0.36051072]\n",
            " [ 0.29261399 -0.52713799]\n",
            " [ 1.45965844  0.41298505]\n",
            " [ 0.14907226  0.55210221]\n",
            " [ 1.06515938 -0.27265077]\n",
            " [ 0.1780764   0.32965101]\n",
            " [-0.18273423 -0.46767688]\n",
            " [-1.40964417 -0.57356592]\n",
            " [-0.1295464   0.65003799]\n",
            " [-1.34085445 -0.54135194]\n",
            " [ 0.55793629  0.17778324]\n",
            " [-0.45126362  0.08499008]\n",
            " [-0.52119083  0.02513613]\n",
            " [ 1.06786236 -0.37195047]\n",
            " [ 0.32588463 -0.56560958]\n",
            " [ 1.42386037  0.05280638]\n",
            " [ 0.52433361 -0.04604053]\n",
            " [ 0.22393627  0.44820536]\n",
            " [-1.31234336 -0.64124705]\n",
            " [ 1.33748286 -0.17641382]\n",
            " [ 1.20529672 -0.17050229]\n",
            " [-0.35769619  0.66615149]\n",
            " [-0.86928956  0.48624947]\n",
            " [ 1.34726328  0.14915394]\n",
            " [ 0.14781015 -0.55440555]\n",
            " [ 0.70391495 -0.58943339]\n",
            " [-0.11908238  0.54030199]\n",
            " [ 0.44916288  0.24258667]\n",
            " [-0.50140998 -0.16610122]\n",
            " [-1.3922418  -0.58636514]\n",
            " [-1.03221216  0.44655028]\n",
            " [-0.19984411 -0.44624   ]\n",
            " [ 0.11316981  0.49577372]\n",
            " [-0.50050648 -0.10686048]\n",
            " [ 1.35124006  0.6471974 ]\n",
            " [-0.09479186 -0.56076252]\n",
            " [ 0.35449665  0.27178994]\n",
            " [-0.45949755  0.64720755]\n",
            " [ 0.42888469  0.27004265]\n",
            " [ 0.69222824 -0.54588409]\n",
            " [ 0.607731    0.21719222]\n",
            " [ 0.56760857 -0.04112811]\n",
            " [-1.29296001 -0.24165265]\n",
            " [-1.16593918  0.32033406]\n",
            " [ 0.85048717 -0.51339069]\n",
            " [-0.82324629  0.4696819 ]\n",
            " [ 0.76098246 -0.54809999]\n",
            " [ 0.25486607 -0.70408244]\n",
            " [-0.17651864  0.59808512]\n",
            " [ 0.28939063 -0.63614085]\n",
            " [ 1.37724879  0.66444688]\n",
            " [ 0.03557281  0.42441183]\n",
            " [-0.19023376 -0.45158486]\n",
            " [-1.20638732  0.17449817]\n",
            " [-0.51834965  0.55199156]\n",
            " [ 1.07692658 -0.24078654]\n",
            " [ 0.0824707  -0.47811282]\n",
            " [-1.290694    0.26492925]\n",
            " [ 0.24818382 -0.58791275]\n",
            " [ 1.26218957  0.00393512]\n",
            " [-0.82949014  0.52766626]\n",
            " [-0.08238502  0.54349971]\n",
            " [ 0.30952898 -0.59249828]\n",
            " [ 0.32454386  0.30175734]\n",
            " [-0.57475006  0.59789372]\n",
            " [-0.56683313 -0.12690282]\n",
            " [ 1.3439515   0.23591427]\n",
            " [ 0.49427461 -0.55436031]\n",
            " [ 0.49849965  0.12950066]\n",
            " [-1.46212571 -0.1758076 ]\n",
            " [-0.78857711  0.51746835]\n",
            " [-1.39578191 -0.2835516 ]\n",
            " [ 0.35118546 -0.61891945]\n",
            " [-0.15729985  0.59225535]\n",
            " [ 1.01773998 -0.35784844]\n",
            " [-0.01335226 -0.49673493]\n",
            " [-1.12360435  0.26743524]\n",
            " [-0.45100579  0.01820296]\n",
            " [-0.32893729  0.62371867]\n",
            " [ 1.36580997  0.41778613]\n",
            " [ 1.34534329 -0.08341054]\n",
            " [ 1.13417702 -0.15711364]\n",
            " [-1.42108073 -0.01627448]\n",
            " [-1.50341344 -0.18976343]\n",
            " [ 1.24853791 -0.22589466]\n",
            " [-0.50741402 -0.2184953 ]\n",
            " [-0.34385951 -0.12882347]\n",
            " [ 0.64147966 -0.61736021]\n",
            " [-1.27545565  0.20353446]\n",
            " [ 0.47057261  0.06360655]\n",
            " [-0.35913087 -0.17278088]\n",
            " [-0.21777252  0.56677361]\n",
            " [ 0.85373256 -0.46868876]\n",
            " [-1.32263945 -0.03509686]\n",
            " [ 0.58408153  0.03160655]\n",
            " [-1.04697614  0.32442762]\n",
            " [-1.42410371 -0.20022063]\n",
            " [ 0.65250168 -0.58622079]\n",
            " [ 0.52680376 -0.59973025]\n",
            " [ 1.35660001  0.27229359]\n",
            " [ 0.34516089 -0.53687738]\n",
            " [-1.39002279 -0.3428649 ]\n",
            " [-0.44701313  0.48335033]\n",
            " [-1.19137153  0.30679424]\n",
            " [-0.87789432  0.53283049]\n",
            " [-1.35231756 -0.63540228]\n",
            " [-1.14017658  0.24970548]\n",
            " [-1.35345858 -0.01387369]\n",
            " [-0.29168237  0.59795548]\n",
            " [ 0.59467274 -0.61239809]\n",
            " [ 0.33651351 -0.64476268]\n",
            " [ 1.25611136 -0.17743583]\n",
            " [-0.31185261 -0.30368829]\n",
            " [ 0.61212272 -0.60944562]\n",
            " [-1.12466121  0.29225822]\n",
            " [-0.12703471  0.53395329]\n",
            " [-1.38351199 -0.57390001]\n",
            " [-0.57312531  0.52328641]\n",
            " [-0.69774767  0.50385707]\n",
            " [ 0.44977015  0.1167743 ]\n",
            " [ 0.22035913 -0.58618397]\n",
            " [-0.03822472  0.53574865]\n",
            " [-1.34361874 -0.36538704]\n",
            " [-0.52536581  0.00991962]\n",
            " [ 0.46604611 -0.68374827]\n",
            " [ 0.17169827  0.35897601]\n",
            " [ 0.51845413  0.06513796]\n",
            " [ 0.19649098  0.3511749 ]\n",
            " [ 1.39965956  0.178801  ]\n",
            " [ 1.46700347  0.09007894]\n",
            " [ 1.27052847  0.52129685]\n",
            " [ 1.06559379 -0.24174223]\n",
            " [-0.92106617  0.43330443]\n",
            " [ 0.95016157 -0.53140615]\n",
            " [-1.24654664  0.06141902]\n",
            " [-1.13292949  0.28034281]\n",
            " [ 1.44006141  0.69188388]\n",
            " [-1.37676121 -0.72620875]\n",
            " [-0.33531327 -0.30693284]\n",
            " [-0.68642515  0.5543671 ]\n",
            " [ 0.96766399 -0.50995172]\n",
            " [ 1.41160482  0.29297776]\n",
            " [-0.40884583 -0.21468061]\n",
            " [ 1.32169623 -0.00431451]\n",
            " [-0.55646193  0.65829561]\n",
            " [ 1.29345102  0.17103861]]\n"
          ]
        },
        {
          "output_type": "execute_result",
          "data": {
            "text/plain": [
              "(matrix([[-0.31306686, -0.94973109],\n",
              "         [-0.94973109,  0.31306686]]),\n",
              " array([0.18146297, 0.82440053]),\n",
              " matrix([[ 0.35457927,  0.26282587],\n",
              "         [-0.55063268, -0.07912451],\n",
              "         [ 1.29106492, -0.02050071],\n",
              "         [ 0.63122066, -0.50222636],\n",
              "         [ 1.45932139,  0.39209846],\n",
              "         [-0.47672944,  0.61619472],\n",
              "         [-0.98042708,  0.42692603],\n",
              "         [-0.61891903,  0.62926093],\n",
              "         [-0.48673305, -0.15800825],\n",
              "         [ 1.41157808,  0.16351977],\n",
              "         [-1.01015237,  0.30800563],\n",
              "         [-1.29265801,  0.10265884],\n",
              "         [-1.4176105 , -0.28607287],\n",
              "         [-1.39749481, -0.4830077 ],\n",
              "         [ 0.89233047, -0.48373232],\n",
              "         [-1.42026574, -0.06747767],\n",
              "         [-0.80700784,  0.4510427 ],\n",
              "         [-0.34902044, -0.40150631],\n",
              "         [-0.38530754,  0.59319824],\n",
              "         [-0.21571237, -0.41044944],\n",
              "         [-1.40224907, -0.66851998],\n",
              "         [-0.21914725, -0.24984802],\n",
              "         [ 1.35045753,  0.3848222 ],\n",
              "         [ 0.87789313, -0.51263022],\n",
              "         [-0.56658619,  0.56599683],\n",
              "         [ 0.29050729, -0.6057572 ],\n",
              "         [ 0.50534009, -0.58618346],\n",
              "         [-0.50113896, -0.06147317],\n",
              "         [-0.08882776, -0.49209652],\n",
              "         [ 1.37843735,  0.63816557],\n",
              "         [-1.00140099,  0.43893561],\n",
              "         [ 0.10051589, -0.46876048],\n",
              "         [ 0.29781383,  0.26987652],\n",
              "         [-1.34529701,  0.07766106],\n",
              "         [-0.1309422 , -0.36155976],\n",
              "         [ 1.42913875,  0.45810658],\n",
              "         [-0.30929251, -0.39402894],\n",
              "         [-0.90863813,  0.55404172],\n",
              "         [-0.58844877,  0.65685365],\n",
              "         [ 0.05084622,  0.52843872],\n",
              "         [ 1.38229917,  0.59767563],\n",
              "         [ 1.3139046 ,  0.03410021],\n",
              "         [ 1.2949355 ,  0.31249251],\n",
              "         [-0.62248793,  0.60915759],\n",
              "         [-1.29915012, -0.05539771],\n",
              "         [-0.24904339, -0.25446814],\n",
              "         [ 0.30331982,  0.3320541 ],\n",
              "         [ 0.88510915, -0.50667324],\n",
              "         [-0.33246768,  0.59355166],\n",
              "         [ 0.0228441 , -0.55247408],\n",
              "         [ 0.48290477,  0.10935747],\n",
              "         [-1.43496555, -0.10984877],\n",
              "         [-1.36764777, -0.39190795],\n",
              "         [ 1.37471689,  0.62719126],\n",
              "         [ 0.45274304,  0.16944053],\n",
              "         [ 0.82506544, -0.55405792],\n",
              "         [-1.26345776,  0.09626402],\n",
              "         [ 0.12292703,  0.36702702],\n",
              "         [-0.16443399,  0.51661787],\n",
              "         [-1.31671616, -0.19628575],\n",
              "         [-1.38704598, -0.26025331],\n",
              "         [ 0.0322045 ,  0.46238582],\n",
              "         [ 1.37916336,  0.64438068],\n",
              "         [ 1.18920124, -0.24360252],\n",
              "         [ 0.56729989, -0.11397531],\n",
              "         [-0.29233934,  0.54128921],\n",
              "         [-1.39535059, -0.62241905],\n",
              "         [ 1.34976556,  0.29165661],\n",
              "         [-0.33986233,  0.5093585 ],\n",
              "         [-1.40730081, -0.32023113],\n",
              "         [ 0.95786796, -0.49109064],\n",
              "         [ 0.00299898,  0.46525655],\n",
              "         [ 1.4131151 ,  0.53878802],\n",
              "         [ 1.00848128, -0.33189406],\n",
              "         [-1.40604346, -0.38681807],\n",
              "         [ 1.0550245 , -0.23958793],\n",
              "         [-0.18501541, -0.44991572],\n",
              "         [ 0.59320823,  0.00445094],\n",
              "         [ 0.98672924, -0.36411173],\n",
              "         [ 1.17050509, -0.20339907],\n",
              "         [-0.50719016, -0.00829809],\n",
              "         [ 0.56999316, -0.61365188],\n",
              "         [-0.79212377,  0.62898108],\n",
              "         [-1.45295165, -0.3042196 ],\n",
              "         [-0.27324198,  0.63435223],\n",
              "         [ 0.73732243, -0.55361202],\n",
              "         [ 0.45019132,  0.25868815],\n",
              "         [ 1.30783694,  0.65123198],\n",
              "         [-1.21431933,  0.2418169 ],\n",
              "         [ 0.29295737,  0.24349711],\n",
              "         [ 0.00900513, -0.43191462],\n",
              "         [-0.43400133, -0.18643195],\n",
              "         [ 0.08267708, -0.63009433],\n",
              "         [-0.07737854, -0.44532083],\n",
              "         [ 0.18965755, -0.55045709],\n",
              "         [-1.21448363,  0.06883463],\n",
              "         [-0.32115477, -0.41884277],\n",
              "         [ 1.28897043, -0.05871272],\n",
              "         [-1.17784594,  0.13694159],\n",
              "         [ 1.36706025,  0.20792823],\n",
              "         [ 0.5150841 , -0.58138914],\n",
              "         [ 1.26695712, -0.03545081],\n",
              "         [ 0.34286896,  0.29140993],\n",
              "         [-0.97311178,  0.37919023],\n",
              "         [ 0.94451488, -0.36051072],\n",
              "         [ 0.29261399, -0.52713799],\n",
              "         [ 1.45965844,  0.41298505],\n",
              "         [ 0.14907226,  0.55210221],\n",
              "         [ 1.06515938, -0.27265077],\n",
              "         [ 0.1780764 ,  0.32965101],\n",
              "         [-0.18273423, -0.46767688],\n",
              "         [-1.40964417, -0.57356592],\n",
              "         [-0.1295464 ,  0.65003799],\n",
              "         [-1.34085445, -0.54135194],\n",
              "         [ 0.55793629,  0.17778324],\n",
              "         [-0.45126362,  0.08499008],\n",
              "         [-0.52119083,  0.02513613],\n",
              "         [ 1.06786236, -0.37195047],\n",
              "         [ 0.32588463, -0.56560958],\n",
              "         [ 1.42386037,  0.05280638],\n",
              "         [ 0.52433361, -0.04604053],\n",
              "         [ 0.22393627,  0.44820536],\n",
              "         [-1.31234336, -0.64124705],\n",
              "         [ 1.33748286, -0.17641382],\n",
              "         [ 1.20529672, -0.17050229],\n",
              "         [-0.35769619,  0.66615149],\n",
              "         [-0.86928956,  0.48624947],\n",
              "         [ 1.34726328,  0.14915394],\n",
              "         [ 0.14781015, -0.55440555],\n",
              "         [ 0.70391495, -0.58943339],\n",
              "         [-0.11908238,  0.54030199],\n",
              "         [ 0.44916288,  0.24258667],\n",
              "         [-0.50140998, -0.16610122],\n",
              "         [-1.3922418 , -0.58636514],\n",
              "         [-1.03221216,  0.44655028],\n",
              "         [-0.19984411, -0.44624   ],\n",
              "         [ 0.11316981,  0.49577372],\n",
              "         [-0.50050648, -0.10686048],\n",
              "         [ 1.35124006,  0.6471974 ],\n",
              "         [-0.09479186, -0.56076252],\n",
              "         [ 0.35449665,  0.27178994],\n",
              "         [-0.45949755,  0.64720755],\n",
              "         [ 0.42888469,  0.27004265],\n",
              "         [ 0.69222824, -0.54588409],\n",
              "         [ 0.607731  ,  0.21719222],\n",
              "         [ 0.56760857, -0.04112811],\n",
              "         [-1.29296001, -0.24165265],\n",
              "         [-1.16593918,  0.32033406],\n",
              "         [ 0.85048717, -0.51339069],\n",
              "         [-0.82324629,  0.4696819 ],\n",
              "         [ 0.76098246, -0.54809999],\n",
              "         [ 0.25486607, -0.70408244],\n",
              "         [-0.17651864,  0.59808512],\n",
              "         [ 0.28939063, -0.63614085],\n",
              "         [ 1.37724879,  0.66444688],\n",
              "         [ 0.03557281,  0.42441183],\n",
              "         [-0.19023376, -0.45158486],\n",
              "         [-1.20638732,  0.17449817],\n",
              "         [-0.51834965,  0.55199156],\n",
              "         [ 1.07692658, -0.24078654],\n",
              "         [ 0.0824707 , -0.47811282],\n",
              "         [-1.290694  ,  0.26492925],\n",
              "         [ 0.24818382, -0.58791275],\n",
              "         [ 1.26218957,  0.00393512],\n",
              "         [-0.82949014,  0.52766626],\n",
              "         [-0.08238502,  0.54349971],\n",
              "         [ 0.30952898, -0.59249828],\n",
              "         [ 0.32454386,  0.30175734],\n",
              "         [-0.57475006,  0.59789372],\n",
              "         [-0.56683313, -0.12690282],\n",
              "         [ 1.3439515 ,  0.23591427],\n",
              "         [ 0.49427461, -0.55436031],\n",
              "         [ 0.49849965,  0.12950066],\n",
              "         [-1.46212571, -0.1758076 ],\n",
              "         [-0.78857711,  0.51746835],\n",
              "         [-1.39578191, -0.2835516 ],\n",
              "         [ 0.35118546, -0.61891945],\n",
              "         [-0.15729985,  0.59225535],\n",
              "         [ 1.01773998, -0.35784844],\n",
              "         [-0.01335226, -0.49673493],\n",
              "         [-1.12360435,  0.26743524],\n",
              "         [-0.45100579,  0.01820296],\n",
              "         [-0.32893729,  0.62371867],\n",
              "         [ 1.36580997,  0.41778613],\n",
              "         [ 1.34534329, -0.08341054],\n",
              "         [ 1.13417702, -0.15711364],\n",
              "         [-1.42108073, -0.01627448],\n",
              "         [-1.50341344, -0.18976343],\n",
              "         [ 1.24853791, -0.22589466],\n",
              "         [-0.50741402, -0.2184953 ],\n",
              "         [-0.34385951, -0.12882347],\n",
              "         [ 0.64147966, -0.61736021],\n",
              "         [-1.27545565,  0.20353446],\n",
              "         [ 0.47057261,  0.06360655],\n",
              "         [-0.35913087, -0.17278088],\n",
              "         [-0.21777252,  0.56677361],\n",
              "         [ 0.85373256, -0.46868876],\n",
              "         [-1.32263945, -0.03509686],\n",
              "         [ 0.58408153,  0.03160655],\n",
              "         [-1.04697614,  0.32442762],\n",
              "         [-1.42410371, -0.20022063],\n",
              "         [ 0.65250168, -0.58622079],\n",
              "         [ 0.52680376, -0.59973025],\n",
              "         [ 1.35660001,  0.27229359],\n",
              "         [ 0.34516089, -0.53687738],\n",
              "         [-1.39002279, -0.3428649 ],\n",
              "         [-0.44701313,  0.48335033],\n",
              "         [-1.19137153,  0.30679424],\n",
              "         [-0.87789432,  0.53283049],\n",
              "         [-1.35231756, -0.63540228],\n",
              "         [-1.14017658,  0.24970548],\n",
              "         [-1.35345858, -0.01387369],\n",
              "         [-0.29168237,  0.59795548],\n",
              "         [ 0.59467274, -0.61239809],\n",
              "         [ 0.33651351, -0.64476268],\n",
              "         [ 1.25611136, -0.17743583],\n",
              "         [-0.31185261, -0.30368829],\n",
              "         [ 0.61212272, -0.60944562],\n",
              "         [-1.12466121,  0.29225822],\n",
              "         [-0.12703471,  0.53395329],\n",
              "         [-1.38351199, -0.57390001],\n",
              "         [-0.57312531,  0.52328641],\n",
              "         [-0.69774767,  0.50385707],\n",
              "         [ 0.44977015,  0.1167743 ],\n",
              "         [ 0.22035913, -0.58618397],\n",
              "         [-0.03822472,  0.53574865],\n",
              "         [-1.34361874, -0.36538704],\n",
              "         [-0.52536581,  0.00991962],\n",
              "         [ 0.46604611, -0.68374827],\n",
              "         [ 0.17169827,  0.35897601],\n",
              "         [ 0.51845413,  0.06513796],\n",
              "         [ 0.19649098,  0.3511749 ],\n",
              "         [ 1.39965956,  0.178801  ],\n",
              "         [ 1.46700347,  0.09007894],\n",
              "         [ 1.27052847,  0.52129685],\n",
              "         [ 1.06559379, -0.24174223],\n",
              "         [-0.92106617,  0.43330443],\n",
              "         [ 0.95016157, -0.53140615],\n",
              "         [-1.24654664,  0.06141902],\n",
              "         [-1.13292949,  0.28034281],\n",
              "         [ 1.44006141,  0.69188388],\n",
              "         [-1.37676121, -0.72620875],\n",
              "         [-0.33531327, -0.30693284],\n",
              "         [-0.68642515,  0.5543671 ],\n",
              "         [ 0.96766399, -0.50995172],\n",
              "         [ 1.41160482,  0.29297776],\n",
              "         [-0.40884583, -0.21468061],\n",
              "         [ 1.32169623, -0.00431451],\n",
              "         [-0.55646193,  0.65829561],\n",
              "         [ 1.29345102,  0.17103861]]))"
            ]
          },
          "metadata": {},
          "execution_count": 59
        }
      ],
      "source": [
        "def pca(X):\n",
        "   # normalize the features\n",
        "   X = (X - np.mean(X , axis = 0))\n",
        "   \n",
        "   # compute the covariance matrix\n",
        "\n",
        "   X = np.matrix(X)\n",
        "   cov = (X.T * X) / X.shape[0]\n",
        "\n",
        "   print('cov \\n', cov)\n",
        "   print()\n",
        "\n",
        "   # perform eigen_vectors\n",
        "\n",
        "   eigenvalues,eigen_vectors = np.linalg.eigh(cov)\n",
        "   print('eigen_vectors\\n',eigen_vectors)\n",
        "   print()\n",
        "\n",
        "   print('eigenvalues\\n',eigenvalues)\n",
        "   sorted_index = np.argsort(eigenvalues)[::-1]\n",
        "   sorted_eigenvectors = eigen_vectors[:,sorted_index]\n",
        "\n",
        "\n",
        "   print()\n",
        "\n",
        "   U_reduced = sorted_eigenvectors[:,:k]\n",
        "   transformed_data=np.dot(U_reduced.T,X.T).T\n",
        "   print('transformed_data\\n',transformed_data)\n",
        "\n",
        "   return eigen_vectors,eigenvalues ,transformed_data\n",
        "\n",
        "pca(X)\n",
        "\n"
      ]
    },
    {
      "cell_type": "markdown",
      "id": "70d4c571-f509-4eb2-942c-f36e8f446678",
      "metadata": {
        "id": "70d4c571-f509-4eb2-942c-f36e8f446678"
      },
      "source": [
        "# Question 7\n",
        "Write your own K-means clustering, where the Euclidian distance is used to evaluate\n",
        "the distance/ similarity between the dataset. The input to this function should be:\n",
        "* The number of clusters\n",
        "* The dataset\n",
        "\n",
        "The output should be:\n",
        "* The list of cluster centers"
      ]
    },
    {
      "cell_type": "code",
      "execution_count": null,
      "id": "8576e3c6-bab1-4730-a8b4-6a427d1da59a",
      "metadata": {
        "id": "8576e3c6-bab1-4730-a8b4-6a427d1da59a"
      },
      "outputs": [],
      "source": [
        "def init_centroids(X, k):\n",
        "   m, n = X.shape\n",
        "   centroids = np.zeros((k, n))\n",
        "   idx = np.random.randint(0, m, k)\n",
        "   \n",
        "   for i in range(k):\n",
        "       centroids[i,:] = X[idx[i],:]\n",
        "   \n",
        "   return centroids\n",
        "\n",
        "\n",
        "# centroid function\n",
        "def find_closest_centroids(X, centroids):\n",
        "   m = X.shape[0]\n",
        "   k = centroids.shape[0]\n",
        "   idx = np.zeros(m)\n",
        "   \n",
        "   \n",
        "   for i in range(m):\n",
        "       min_dist = 1000000\n",
        "       for j in range(k):\n",
        "           dist = np.sum((X[i,:] - centroids[j,:]) ** 2)\n",
        "           if dist < min_dist:\n",
        "               min_dist = dist\n",
        "               idx[i] = j\n",
        "   \n",
        "   return idx\n",
        "\n",
        "# centroid maker\n",
        "def compute_centroids(X, idx, k):\n",
        "   m, n = X.shape\n",
        "   centroids = np.zeros((k, n))\n",
        "   \n",
        "   for i in range(k):\n",
        "       indices = np.where(idx == i)\n",
        "       centroids[i,:] = (np.sum(X[indices,:], axis=1) / len(indices[0])).ravel()\n",
        "   \n",
        "   return centroids\n",
        "\n",
        "# k means function\n",
        "def run_k_means(X, k):\n",
        "    \n",
        "   initial_centroids =  init_centroids(X, k)\n",
        "\n",
        "\n",
        "   m, n = X.shape\n",
        "   k = initial_centroids.shape[0]\n",
        "   idx = np.zeros(m)\n",
        "   centroids = initial_centroids\n",
        "   \n",
        "   for i in range(250):\n",
        "       idx = find_closest_centroids(X, centroids)\n",
        "       centroids = compute_centroids(X, idx, k)\n",
        "   \n",
        "   return idx, centroids\n"
      ]
    },
    {
      "cell_type": "code",
      "source": [
        "\n",
        "# apply k means \n",
        "idx, centroids = run_k_means(X, 2)\n",
        "print(len(idx))\n",
        "print()\n",
        "print(centroids)\n"
      ],
      "metadata": {
        "colab": {
          "base_uri": "https://localhost:8080/"
        },
        "id": "ZbqjBwNVCRi8",
        "outputId": "065d8368-e66a-4a10-d43a-c5939b25c64e"
      },
      "id": "ZbqjBwNVCRi8",
      "execution_count": null,
      "outputs": [
        {
          "output_type": "stream",
          "name": "stdout",
          "text": [
            "250\n",
            "\n",
            "[[-0.21580413  0.58471364]\n",
            " [ 1.19954086 -0.07033668]]\n"
          ]
        }
      ]
    },
    {
      "cell_type": "code",
      "source": [
        ""
      ],
      "metadata": {
        "id": "cqgOux8hDEDr"
      },
      "id": "cqgOux8hDEDr",
      "execution_count": null,
      "outputs": []
    }
  ],
  "metadata": {
    "kernelspec": {
      "display_name": "Python 3 (ipykernel)",
      "language": "python",
      "name": "python3"
    },
    "language_info": {
      "codemirror_mode": {
        "name": "ipython",
        "version": 3
      },
      "file_extension": ".py",
      "mimetype": "text/x-python",
      "name": "python",
      "nbconvert_exporter": "python",
      "pygments_lexer": "ipython3",
      "version": "3.9.7"
    },
    "colab": {
      "name": "Clustering & PCA Assignment.ipynb",
      "provenance": []
    }
  },
  "nbformat": 4,
  "nbformat_minor": 5
}